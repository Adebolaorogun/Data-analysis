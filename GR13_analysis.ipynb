{
 "cells": [
  {
   "cell_type": "code",
   "execution_count": 1,
   "id": "607b17e4",
   "metadata": {},
   "outputs": [],
   "source": [
    "import pandas as pd \n",
    "import numpy as np \n",
    "import seaborn as sns \n",
    "import matplotlib.pyplot as plt \n",
    "import plotly.express as px"
   ]
  },
  {
   "cell_type": "code",
   "execution_count": 2,
   "id": "eeda44ef",
   "metadata": {},
   "outputs": [
    {
     "name": "stderr",
     "output_type": "stream",
     "text": [
      "C:\\Users\\user\\AppData\\Roaming\\Python\\Python37\\site-packages\\IPython\\core\\interactiveshell.py:3441: DtypeWarning: Columns (5) have mixed types.Specify dtype option on import or set low_memory=False.\n",
      "  exec(code_obj, self.user_global_ns, self.user_ns)\n"
     ]
    }
   ],
   "source": [
    "ggp = pd.read_csv(## Input file path)\n",
    "gr = pd.read_csv(## Input file path)\n",
    "grs = pd.read_csv(## Input file path)\n",
    "grh = pd.read_csv(## Input file path)\n",
    "ggc = pd.read_csv(## Input file path)"
   ]
  },
  {
   "cell_type": "code",
   "execution_count": 3,
   "id": "6af52980",
   "metadata": {
    "collapsed": true
   },
   "outputs": [
    {
     "data": {
      "text/html": [
       "<div>\n",
       "<style scoped>\n",
       "    .dataframe tbody tr th:only-of-type {\n",
       "        vertical-align: middle;\n",
       "    }\n",
       "\n",
       "    .dataframe tbody tr th {\n",
       "        vertical-align: top;\n",
       "    }\n",
       "\n",
       "    .dataframe thead th {\n",
       "        text-align: right;\n",
       "    }\n",
       "</style>\n",
       "<table border=\"1\" class=\"dataframe\">\n",
       "  <thead>\n",
       "    <tr style=\"text-align: right;\">\n",
       "      <th></th>\n",
       "      <th>id</th>\n",
       "      <th>active</th>\n",
       "      <th>title</th>\n",
       "      <th>slug</th>\n",
       "      <th>description</th>\n",
       "      <th>reference_url</th>\n",
       "      <th>logo</th>\n",
       "      <th>admin_address</th>\n",
       "      <th>amount_received</th>\n",
       "      <th>token_address</th>\n",
       "      <th>...</th>\n",
       "      <th>last_calc_time_sybil_and_contrib_amounts</th>\n",
       "      <th>id1</th>\n",
       "      <th>url</th>\n",
       "      <th>name</th>\n",
       "      <th>handle</th>\n",
       "      <th>keywords</th>\n",
       "      <th>position</th>\n",
       "      <th>avatar_url</th>\n",
       "      <th>github_url</th>\n",
       "      <th>total_earned</th>\n",
       "    </tr>\n",
       "  </thead>\n",
       "  <tbody>\n",
       "    <tr>\n",
       "      <th>0</th>\n",
       "      <td>7</td>\n",
       "      <td>True</td>\n",
       "      <td>ETH2.0 Implementers Call Notes</td>\n",
       "      <td>eth20-implementers-call-notes</td>\n",
       "      <td>Transcript/Meeting notes of eth2.0 implementer...</td>\n",
       "      <td>https://github.com/ethereum/eth2.0-pm</td>\n",
       "      <td>https://c.gitcoin.co/grants/b9747fe41dace9ce95...</td>\n",
       "      <td>0xAA42aa2E1888c5aA2861e970cb2720848B868C68</td>\n",
       "      <td>0.0000</td>\n",
       "      <td>0x0000000000000000000000000000000000000000</td>\n",
       "      <td>...</td>\n",
       "      <td>1.645157e+09</td>\n",
       "      <td>20405</td>\n",
       "      <td>/pggallagher</td>\n",
       "      <td>pggallagher</td>\n",
       "      <td>pggallagher</td>\n",
       "      <td>NaN</td>\n",
       "      <td>0</td>\n",
       "      <td>https://c.gitcoin.co/avatars/21617e0d63317fd4b...</td>\n",
       "      <td>https://github.com/pggallagher</td>\n",
       "      <td>0.000000</td>\n",
       "    </tr>\n",
       "    <tr>\n",
       "      <th>1</th>\n",
       "      <td>9</td>\n",
       "      <td>True</td>\n",
       "      <td>fuzz geth and Parity for EVM consensus bugs</td>\n",
       "      <td>fuzz-geth-and-parity-for-evm-consensus-bugs</td>\n",
       "      <td>Work with the Ethereum Foundation security tea...</td>\n",
       "      <td>https://github.com/ethereum/</td>\n",
       "      <td>https://c.gitcoin.co/grants/cc9d294614a9c6d741...</td>\n",
       "      <td>0x7056E70A5CA249Ba88e9550EB22CAEc4C985bb8E</td>\n",
       "      <td>91.4188</td>\n",
       "      <td>NaN</td>\n",
       "      <td>...</td>\n",
       "      <td>1.645157e+09</td>\n",
       "      <td>101</td>\n",
       "      <td>/cdetrio</td>\n",
       "      <td>cdetrio</td>\n",
       "      <td>cdetrio</td>\n",
       "      <td>NaN</td>\n",
       "      <td>0</td>\n",
       "      <td>https://c.gitcoin.co/avatars/08385ece85daab9fa...</td>\n",
       "      <td>https://github.com/cdetrio</td>\n",
       "      <td>0.000000</td>\n",
       "    </tr>\n",
       "    <tr>\n",
       "      <th>2</th>\n",
       "      <td>12</td>\n",
       "      <td>True</td>\n",
       "      <td>Gitcoin Grants Official Matching Pool Fund</td>\n",
       "      <td>gitcoin-grants-official-matching-pool-fund</td>\n",
       "      <td>The objective of this grant is to help us Grow...</td>\n",
       "      <td>https://gitcoin.co</td>\n",
       "      <td>https://c.gitcoin.co/grants/adb075fd0039ec8c8d...</td>\n",
       "      <td>0xde21F729137C5Af1b01d73aF1dC21eFfa2B8a0d6</td>\n",
       "      <td>593028.7633</td>\n",
       "      <td>0x0000000000000000000000000000000000000000</td>\n",
       "      <td>...</td>\n",
       "      <td>1.645156e+09</td>\n",
       "      <td>3221</td>\n",
       "      <td>/owocki</td>\n",
       "      <td>Kevin Owocki</td>\n",
       "      <td>owocki</td>\n",
       "      <td>NaN</td>\n",
       "      <td>8</td>\n",
       "      <td>https://c.gitcoin.co/avatars/e2dd024b48492a344...</td>\n",
       "      <td>https://github.com/owocki</td>\n",
       "      <td>0.001000</td>\n",
       "    </tr>\n",
       "    <tr>\n",
       "      <th>3</th>\n",
       "      <td>13</td>\n",
       "      <td>True</td>\n",
       "      <td>ethers.js - Complete, Simple and Tiny</td>\n",
       "      <td>ethersjs-complete-simple-and-tiny</td>\n",
       "      <td>The ethers.js library is a complete and compac...</td>\n",
       "      <td>https://ethers.org/</td>\n",
       "      <td>https://c.gitcoin.co/grants/7f2bdd3cbd59dcaaa1...</td>\n",
       "      <td>0x8ba1f109551bD432803012645Ac136ddd64DBA72</td>\n",
       "      <td>201704.6324</td>\n",
       "      <td>0x0000000000000000000000000000000000000000</td>\n",
       "      <td>...</td>\n",
       "      <td>1.645159e+09</td>\n",
       "      <td>4907</td>\n",
       "      <td>/ricmoo</td>\n",
       "      <td>Richard Moore</td>\n",
       "      <td>ricmoo</td>\n",
       "      <td>NaN</td>\n",
       "      <td>30</td>\n",
       "      <td>https://c.gitcoin.co/avatars/a0d987a424333b075...</td>\n",
       "      <td>https://github.com/ricmoo</td>\n",
       "      <td>0.000000</td>\n",
       "    </tr>\n",
       "    <tr>\n",
       "      <th>4</th>\n",
       "      <td>15</td>\n",
       "      <td>True</td>\n",
       "      <td>Whiteblock Testing</td>\n",
       "      <td>whiteblock-testing</td>\n",
       "      <td>Whiteblock is a blockchain research and testin...</td>\n",
       "      <td>https://www.whiteblock.io</td>\n",
       "      <td>https://c.gitcoin.co/grants/bd9c7d36cdda4bb00e...</td>\n",
       "      <td>0x2aE09FeBFd8A811207a378b142d74FFd23073610</td>\n",
       "      <td>247.8412</td>\n",
       "      <td>0x0000000000000000000000000000000000000000</td>\n",
       "      <td>...</td>\n",
       "      <td>1.645159e+09</td>\n",
       "      <td>7059</td>\n",
       "      <td>/zscole</td>\n",
       "      <td>zak</td>\n",
       "      <td>zscole</td>\n",
       "      <td>NaN</td>\n",
       "      <td>0</td>\n",
       "      <td>https://c.gitcoin.co/avatars/50a82c1b1ec5d669e...</td>\n",
       "      <td>https://github.com/zscole</td>\n",
       "      <td>0.785629</td>\n",
       "    </tr>\n",
       "  </tbody>\n",
       "</table>\n",
       "<p>5 rows × 33 columns</p>\n",
       "</div>"
      ],
      "text/plain": [
       "   id  active                                        title  \\\n",
       "0   7    True               ETH2.0 Implementers Call Notes   \n",
       "1   9    True  fuzz geth and Parity for EVM consensus bugs   \n",
       "2  12    True   Gitcoin Grants Official Matching Pool Fund   \n",
       "3  13    True        ethers.js - Complete, Simple and Tiny   \n",
       "4  15    True                           Whiteblock Testing   \n",
       "\n",
       "                                          slug  \\\n",
       "0                eth20-implementers-call-notes   \n",
       "1  fuzz-geth-and-parity-for-evm-consensus-bugs   \n",
       "2   gitcoin-grants-official-matching-pool-fund   \n",
       "3            ethersjs-complete-simple-and-tiny   \n",
       "4                           whiteblock-testing   \n",
       "\n",
       "                                         description  \\\n",
       "0  Transcript/Meeting notes of eth2.0 implementer...   \n",
       "1  Work with the Ethereum Foundation security tea...   \n",
       "2  The objective of this grant is to help us Grow...   \n",
       "3  The ethers.js library is a complete and compac...   \n",
       "4  Whiteblock is a blockchain research and testin...   \n",
       "\n",
       "                           reference_url  \\\n",
       "0  https://github.com/ethereum/eth2.0-pm   \n",
       "1           https://github.com/ethereum/   \n",
       "2                     https://gitcoin.co   \n",
       "3                    https://ethers.org/   \n",
       "4              https://www.whiteblock.io   \n",
       "\n",
       "                                                logo  \\\n",
       "0  https://c.gitcoin.co/grants/b9747fe41dace9ce95...   \n",
       "1  https://c.gitcoin.co/grants/cc9d294614a9c6d741...   \n",
       "2  https://c.gitcoin.co/grants/adb075fd0039ec8c8d...   \n",
       "3  https://c.gitcoin.co/grants/7f2bdd3cbd59dcaaa1...   \n",
       "4  https://c.gitcoin.co/grants/bd9c7d36cdda4bb00e...   \n",
       "\n",
       "                                admin_address  amount_received  \\\n",
       "0  0xAA42aa2E1888c5aA2861e970cb2720848B868C68           0.0000   \n",
       "1  0x7056E70A5CA249Ba88e9550EB22CAEc4C985bb8E          91.4188   \n",
       "2  0xde21F729137C5Af1b01d73aF1dC21eFfa2B8a0d6      593028.7633   \n",
       "3  0x8ba1f109551bD432803012645Ac136ddd64DBA72      201704.6324   \n",
       "4  0x2aE09FeBFd8A811207a378b142d74FFd23073610         247.8412   \n",
       "\n",
       "                                token_address  ...  \\\n",
       "0  0x0000000000000000000000000000000000000000  ...   \n",
       "1                                         NaN  ...   \n",
       "2  0x0000000000000000000000000000000000000000  ...   \n",
       "3  0x0000000000000000000000000000000000000000  ...   \n",
       "4  0x0000000000000000000000000000000000000000  ...   \n",
       "\n",
       "  last_calc_time_sybil_and_contrib_amounts    id1           url  \\\n",
       "0                             1.645157e+09  20405  /pggallagher   \n",
       "1                             1.645157e+09    101      /cdetrio   \n",
       "2                             1.645156e+09   3221       /owocki   \n",
       "3                             1.645159e+09   4907       /ricmoo   \n",
       "4                             1.645159e+09   7059       /zscole   \n",
       "\n",
       "            name       handle  keywords  position  \\\n",
       "0    pggallagher  pggallagher       NaN         0   \n",
       "1        cdetrio      cdetrio       NaN         0   \n",
       "2   Kevin Owocki       owocki       NaN         8   \n",
       "3  Richard Moore       ricmoo       NaN        30   \n",
       "4            zak       zscole       NaN         0   \n",
       "\n",
       "                                          avatar_url  \\\n",
       "0  https://c.gitcoin.co/avatars/21617e0d63317fd4b...   \n",
       "1  https://c.gitcoin.co/avatars/08385ece85daab9fa...   \n",
       "2  https://c.gitcoin.co/avatars/e2dd024b48492a344...   \n",
       "3  https://c.gitcoin.co/avatars/a0d987a424333b075...   \n",
       "4  https://c.gitcoin.co/avatars/50a82c1b1ec5d669e...   \n",
       "\n",
       "                       github_url  total_earned  \n",
       "0  https://github.com/pggallagher      0.000000  \n",
       "1      https://github.com/cdetrio      0.000000  \n",
       "2       https://github.com/owocki      0.001000  \n",
       "3       https://github.com/ricmoo      0.000000  \n",
       "4       https://github.com/zscole      0.785629  \n",
       "\n",
       "[5 rows x 33 columns]"
      ]
     },
     "execution_count": 3,
     "metadata": {},
     "output_type": "execute_result"
    }
   ],
   "source": [
    "ggp.head()"
   ]
  },
  {
   "cell_type": "code",
   "execution_count": 7,
   "id": "17b2cf24",
   "metadata": {},
   "outputs": [
    {
     "data": {
      "text/plain": [
       "❌ DENIED            1107\n",
       "👍 APPROVED           763\n",
       "NEEDS REVIEW         214\n",
       "REQUESTED INFO        92\n",
       "Duplicate             35\n",
       "NEEDS 2nd REVIEW      32\n",
       "Error                  8\n",
       "Name: Platform Status, dtype: int64"
      ]
     },
     "execution_count": 7,
     "metadata": {},
     "output_type": "execute_result"
    }
   ],
   "source": [
    "pd.Series(gr[\"Platform Status\"]).value_counts()"
   ]
  },
  {
   "cell_type": "code",
   "execution_count": 9,
   "id": "251a49c7",
   "metadata": {},
   "outputs": [
    {
     "data": {
      "text/plain": [
       "Index(['round_number', 'round_start_date', 'round_end_date', 'grant_title',\n",
       "       'grant_id', 'region', 'category', 'url', 'match_amount',\n",
       "       'num_contributions', 'num_unique_contributors',\n",
       "       'crowdfund_amount_contributions_usd', 'total'],\n",
       "      dtype='object')"
      ]
     },
     "execution_count": 9,
     "metadata": {},
     "output_type": "execute_result"
    }
   ],
   "source": [
    "grh.columns"
   ]
  },
  {
   "cell_type": "code",
   "execution_count": 10,
   "id": "818a0d95",
   "metadata": {},
   "outputs": [
    {
     "data": {
      "text/plain": [
       "12    1812\n",
       "11     877\n",
       "10     723\n",
       "9      654\n",
       "6      607\n",
       "8      371\n",
       "5      292\n",
       "7      291\n",
       "4      152\n",
       "3       65\n",
       "2       36\n",
       "1       26\n",
       "Name: round_number, dtype: int64"
      ]
     },
     "execution_count": 10,
     "metadata": {},
     "output_type": "execute_result"
    }
   ],
   "source": [
    "pd.Series(grh[\"round_number\"]).value_counts()"
   ]
  },
  {
   "cell_type": "code",
   "execution_count": 15,
   "id": "5e35c423",
   "metadata": {},
   "outputs": [
    {
     "data": {
      "text/html": [
       "<div>\n",
       "<style scoped>\n",
       "    .dataframe tbody tr th:only-of-type {\n",
       "        vertical-align: middle;\n",
       "    }\n",
       "\n",
       "    .dataframe tbody tr th {\n",
       "        vertical-align: top;\n",
       "    }\n",
       "\n",
       "    .dataframe thead th {\n",
       "        text-align: right;\n",
       "    }\n",
       "</style>\n",
       "<table border=\"1\" class=\"dataframe\">\n",
       "  <thead>\n",
       "    <tr style=\"text-align: right;\">\n",
       "      <th></th>\n",
       "      <th>id</th>\n",
       "      <th>success</th>\n",
       "      <th>tx_cleared</th>\n",
       "      <th>created_on</th>\n",
       "      <th>anonymous</th>\n",
       "      <th>tx_id</th>\n",
       "      <th>grant</th>\n",
       "      <th>subscription_id</th>\n",
       "      <th>contributor_profile</th>\n",
       "      <th>token_symbol</th>\n",
       "      <th>amount_per_period</th>\n",
       "      <th>amount_per_period_minus_gas_price</th>\n",
       "      <th>amount_per_period_usdt</th>\n",
       "      <th>amount_per_period_to_gitcoin</th>\n",
       "      <th>comments</th>\n",
       "      <th>hide_wallet_address</th>\n",
       "    </tr>\n",
       "  </thead>\n",
       "  <tbody>\n",
       "    <tr>\n",
       "      <th>0</th>\n",
       "      <td>221931</td>\n",
       "      <td>True</td>\n",
       "      <td>True</td>\n",
       "      <td>2021-03-23 04:56:39.154878+00:00</td>\n",
       "      <td>False</td>\n",
       "      <td>NaN</td>\n",
       "      <td>9</td>\n",
       "      <td>221387</td>\n",
       "      <td>rubiconclub</td>\n",
       "      <td>ETH</td>\n",
       "      <td>0.001</td>\n",
       "      <td>0.001</td>\n",
       "      <td>1.605855</td>\n",
       "      <td>0.00005</td>\n",
       "      <td>NaN</td>\n",
       "      <td>True</td>\n",
       "    </tr>\n",
       "    <tr>\n",
       "      <th>1</th>\n",
       "      <td>163744</td>\n",
       "      <td>True</td>\n",
       "      <td>True</td>\n",
       "      <td>2021-03-18 00:49:48.634451+00:00</td>\n",
       "      <td>False</td>\n",
       "      <td>NaN</td>\n",
       "      <td>9</td>\n",
       "      <td>163156</td>\n",
       "      <td>srtf2021</td>\n",
       "      <td>DAI</td>\n",
       "      <td>1.000</td>\n",
       "      <td>1.000</td>\n",
       "      <td>0.950000</td>\n",
       "      <td>0.05000</td>\n",
       "      <td>NaN</td>\n",
       "      <td>True</td>\n",
       "    </tr>\n",
       "  </tbody>\n",
       "</table>\n",
       "</div>"
      ],
      "text/plain": [
       "       id  success  tx_cleared                        created_on  anonymous  \\\n",
       "0  221931     True        True  2021-03-23 04:56:39.154878+00:00      False   \n",
       "1  163744     True        True  2021-03-18 00:49:48.634451+00:00      False   \n",
       "\n",
       "  tx_id  grant  subscription_id contributor_profile token_symbol  \\\n",
       "0   NaN      9           221387         rubiconclub          ETH   \n",
       "1   NaN      9           163156            srtf2021          DAI   \n",
       "\n",
       "   amount_per_period  amount_per_period_minus_gas_price  \\\n",
       "0              0.001                              0.001   \n",
       "1              1.000                              1.000   \n",
       "\n",
       "   amount_per_period_usdt  amount_per_period_to_gitcoin comments  \\\n",
       "0                1.605855                       0.00005      NaN   \n",
       "1                0.950000                       0.05000      NaN   \n",
       "\n",
       "   hide_wallet_address  \n",
       "0                 True  \n",
       "1                 True  "
      ]
     },
     "execution_count": 15,
     "metadata": {},
     "output_type": "execute_result"
    }
   ],
   "source": [
    "ggc.head(2)"
   ]
  },
  {
   "cell_type": "code",
   "execution_count": 18,
   "id": "9ce292a2",
   "metadata": {},
   "outputs": [
    {
     "data": {
      "text/plain": [
       "Entered         192\n",
       "Yes              60\n",
       "Needs Entry      25\n",
       "No               13\n",
       "Needs Review      4\n",
       "Name: Entered, dtype: int64"
      ]
     },
     "execution_count": 18,
     "metadata": {},
     "output_type": "execute_result"
    }
   ],
   "source": [
    "grs.Entered.value_counts()"
   ]
  },
  {
   "cell_type": "code",
   "execution_count": 19,
   "id": "e42d58ad",
   "metadata": {},
   "outputs": [
    {
     "data": {
      "text/plain": [
       "True     1367255\n",
       "False      72244\n",
       "Name: success, dtype: int64"
      ]
     },
     "execution_count": 19,
     "metadata": {},
     "output_type": "execute_result"
    }
   ],
   "source": [
    "ggc.success.value_counts()"
   ]
  },
  {
   "cell_type": "code",
   "execution_count": 23,
   "id": "763ec976",
   "metadata": {},
   "outputs": [
    {
     "data": {
      "text/plain": [
       "<AxesSubplot:xlabel='amount_per_period'>"
      ]
     },
     "execution_count": 23,
     "metadata": {},
     "output_type": "execute_result"
    },
    {
     "data": {
      "image/png": "[encoded data removed]",
      "text/plain": [
       "<Figure size 432x288 with 1 Axes>"
      ]
     },
     "metadata": {
      "needs_background": "light"
     },
     "output_type": "display_data"
    }
   ],
   "source": [
    "sns.boxplot(data=ggc, x=\"amount_per_period\", hue=\"success\")"
   ]
  },
  {
   "cell_type": "code",
   "execution_count": 26,
   "id": "074c084d",
   "metadata": {},
   "outputs": [],
   "source": [
    "t = ggc.loc[ggc[\"success\"] == True]\n",
    "f = ggc.loc[ggc[\"success\"] == False]"
   ]
  },
  {
   "cell_type": "code",
   "execution_count": null,
   "id": "5d88b49b",
   "metadata": {},
   "outputs": [],
   "source": [
    "plt.subplot(1,2,1)\n",
    "sns.boxplot(x=\"amount_per_period\", y = \"success\", data=t);\n",
    "plt.xlabel(\"True\")\n",
    "plt.tick_params(\n",
    "    axis='x',          # changes apply to the x-axis\n",
    "    which='both',      # both major and minor ticks are affected\n",
    "    bottom=False,      # ticks along the bottom edge are off\n",
    "    top=False,         # ticks along the top edge are off\n",
    "    labelbottom=False)\n",
    "\n",
    "plt.subplot(1,2,2)\n",
    "sns.boxplot(x=\"amount_per_period\", y = \"success\", data=f);\n",
    "plt.xlabel(\"False\")\n",
    "plt.tight_layout()\n",
    "\n",
    "plt.tick_params(\n",
    "    axis='x',          # changes apply to the x-axis\n",
    "    which='both',      # both major and minor ticks are affected\n",
    "    bottom=False,      # ticks along the bottom edge are off\n",
    "    top=False,         # ticks along the top edge are off\n",
    "    labelbottom=False)\n",
    "plt.show()"
   ]
  },
  {
   "cell_type": "code",
   "execution_count": 29,
   "id": "641da3c1",
   "metadata": {},
   "outputs": [
    {
     "data": {
      "image/png": "[encoded data removed]",
      "text/plain": [
       "<Figure size 432x288 with 1 Axes>"
      ]
     },
     "metadata": {
      "needs_background": "light"
     },
     "output_type": "display_data"
    }
   ],
   "source": [
    "sns.boxplot(x=\"success\", y = \"amount_per_period\", hue=\"tx_cleared\", data=ggc);\n"
   ]
  },
  {
   "cell_type": "code",
   "execution_count": 31,
   "id": "625a97de",
   "metadata": {},
   "outputs": [
    {
     "data": {
      "text/plain": [
       "mainnet    2144\n",
       "rinkeby      19\n",
       "ropsten       7\n",
       "kovan         1\n",
       "Name: network, dtype: int64"
      ]
     },
     "execution_count": 31,
     "metadata": {},
     "output_type": "execute_result"
    }
   ],
   "source": [
    "ggp.network.value_counts()"
   ]
  },
  {
   "cell_type": "code",
   "execution_count": null,
   "id": "bb3526f4",
   "metadata": {},
   "outputs": [],
   "source": []
  }
 ],
 "metadata": {
  "kernelspec": {
   "display_name": "Python 3",
   "language": "python",
   "name": "python3"
  },
  "language_info": {
   "codemirror_mode": {
    "name": "ipython",
    "version": 3
   },
   "file_extension": ".py",
   "mimetype": "text/x-python",
   "name": "python",
   "nbconvert_exporter": "python",
   "pygments_lexer": "ipython3",
   "version": "3.7.6"
  }
 },
 "nbformat": 4,
 "nbformat_minor": 5
}
